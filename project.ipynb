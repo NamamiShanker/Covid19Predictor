{
 "cells": [
  {
   "cell_type": "markdown",
   "metadata": {},
   "source": [
    "#    <div align=\"center\">   <h1> BIO-101 Project</h1> </div>"
   ]
  },
  {
   "cell_type": "markdown",
   "metadata": {},
   "source": [
    "<div style=\"float:left; width:20%;\">\n",
    "Name: Namami Shanker<br>\n",
    "1904120<br>\n",
    "\n",
    "</div>                                                                                                                 \n",
    "<br>"
   ]
  },
  {
   "cell_type": "markdown",
   "metadata": {},
   "source": [
    "Location: California, USA"
   ]
  },
  {
   "cell_type": "markdown",
   "metadata": {},
   "source": [
    "# About this project\n",
    "\n",
    "### This notebook analyses the relationship of measures against COVID-19 (Coronavirus disease 2019) and the number of infected cases. The goal is to find measures that enable us to settle the situation more quickly.\n",
    "\n",
    "I have used <b>SIR and SEIR</b> where in SEIR model that is a customized ODE model derived from SIR model. To evaluate the effect of measures, parameter estimation of SIR is applied to subsets of time series data . Parameter change points is determined by S-R trend analysis.\n",
    "\n",
    "Our code gets the real time data from <a href= \"https://github.com/CSSEGISandData/COVID-19/tree/master/csse_covid_19_data\"> JHU</a> and gives live results. Though I was given california as our state but I ave tried to make our code dynamic and by entering places mentioned in the list it is possible to track COVID-19 situation of that place as well."
   ]
  },
  {
   "cell_type": "markdown",
   "metadata": {},
   "source": [
    "# Links to various sections. "
   ]
  },
  {
   "cell_type": "markdown",
   "metadata": {},
   "source": [
    "# Dataset and tools\n",
    "    \n",
    "* I have used Python language to make this project\n",
    "\n",
    "    \n",
    "* Libraries used:\n",
    "    * Numpy\n",
    "    * Pandas\n",
    "    * matplotlib.pyplot\n",
    "    * SciPy\n",
    "    * Plotly\n",
    "    \n",
    "    \n",
    "* <a href= \"https://github.com/CSSEGISandData/COVID-19/tree/master/csse_covid_19_data\">I have used JHU CSSE Covid - 19 Dataset</a>"
   ]
  },
  {
   "cell_type": "markdown",
   "metadata": {},
   "source": [
    "* ## Dataset details\n",
    "\n",
    "As mentioned before I have used JHU CSSE Covid - 19 Dataset. I have made a script <tt>'master_data_US_CSS.py'</tt> that updates our database from the website, cleans it and adds an approximated number of patients recovered in the state. Please find the script in the files, its self explanatory. The script can download and clean the data of any state, however I have currently set it to California."
   ]
  },
  {
   "cell_type": "code",
   "execution_count": 7,
   "metadata": {},
   "outputs": [],
   "source": [
    "population = 40_000_000\n",
    "state = \"California\""
   ]
  },
  {
   "cell_type": "markdown",
   "metadata": {},
   "source": [
    "* ## Dataset"
   ]
  },
  {
   "cell_type": "code",
   "execution_count": 13,
   "metadata": {},
   "outputs": [
    {
     "data": {
      "text/html": [
       "<div>\n",
       "<style scoped>\n",
       "    .dataframe tbody tr th:only-of-type {\n",
       "        vertical-align: middle;\n",
       "    }\n",
       "\n",
       "    .dataframe tbody tr th {\n",
       "        vertical-align: top;\n",
       "    }\n",
       "\n",
       "    .dataframe thead th {\n",
       "        text-align: right;\n",
       "    }\n",
       "</style>\n",
       "<table border=\"1\" class=\"dataframe\">\n",
       "  <thead>\n",
       "    <tr style=\"text-align: right;\">\n",
       "      <th></th>\n",
       "      <th>Unnamed: 0</th>\n",
       "      <th>state</th>\n",
       "      <th>date</th>\n",
       "      <th>cases_confirmed</th>\n",
       "      <th>total_deaths</th>\n",
       "      <th>new_deaths</th>\n",
       "      <th>total_US_deaths</th>\n",
       "      <th>death_ratio</th>\n",
       "      <th>total_US_rec</th>\n",
       "      <th>approx_state_rec_total</th>\n",
       "    </tr>\n",
       "  </thead>\n",
       "  <tbody>\n",
       "    <tr>\n",
       "      <th>143</th>\n",
       "      <td>143</td>\n",
       "      <td>California</td>\n",
       "      <td>2020-06-13</td>\n",
       "      <td>150018</td>\n",
       "      <td>5076</td>\n",
       "      <td>98</td>\n",
       "      <td>115436</td>\n",
       "      <td>0.043972</td>\n",
       "      <td>556606</td>\n",
       "      <td>24475.0</td>\n",
       "    </tr>\n",
       "    <tr>\n",
       "      <th>144</th>\n",
       "      <td>144</td>\n",
       "      <td>California</td>\n",
       "      <td>2020-06-14</td>\n",
       "      <td>152300</td>\n",
       "      <td>5099</td>\n",
       "      <td>23</td>\n",
       "      <td>115732</td>\n",
       "      <td>0.044059</td>\n",
       "      <td>561816</td>\n",
       "      <td>24753.0</td>\n",
       "    </tr>\n",
       "    <tr>\n",
       "      <th>145</th>\n",
       "      <td>145</td>\n",
       "      <td>California</td>\n",
       "      <td>2020-06-15</td>\n",
       "      <td>155726</td>\n",
       "      <td>5114</td>\n",
       "      <td>15</td>\n",
       "      <td>116127</td>\n",
       "      <td>0.044038</td>\n",
       "      <td>576334</td>\n",
       "      <td>25381.0</td>\n",
       "    </tr>\n",
       "    <tr>\n",
       "      <th>146</th>\n",
       "      <td>146</td>\n",
       "      <td>California</td>\n",
       "      <td>2020-06-16</td>\n",
       "      <td>158961</td>\n",
       "      <td>5200</td>\n",
       "      <td>86</td>\n",
       "      <td>116963</td>\n",
       "      <td>0.044459</td>\n",
       "      <td>583503</td>\n",
       "      <td>25942.0</td>\n",
       "    </tr>\n",
       "    <tr>\n",
       "      <th>147</th>\n",
       "      <td>147</td>\n",
       "      <td>California</td>\n",
       "      <td>2020-06-17</td>\n",
       "      <td>162798</td>\n",
       "      <td>5271</td>\n",
       "      <td>71</td>\n",
       "      <td>117717</td>\n",
       "      <td>0.044777</td>\n",
       "      <td>592191</td>\n",
       "      <td>26516.0</td>\n",
       "    </tr>\n",
       "    <tr>\n",
       "      <th>148</th>\n",
       "      <td>148</td>\n",
       "      <td>California</td>\n",
       "      <td>2020-06-18</td>\n",
       "      <td>167086</td>\n",
       "      <td>5355</td>\n",
       "      <td>84</td>\n",
       "      <td>118432</td>\n",
       "      <td>0.045216</td>\n",
       "      <td>599115</td>\n",
       "      <td>27089.0</td>\n",
       "    </tr>\n",
       "    <tr>\n",
       "      <th>149</th>\n",
       "      <td>149</td>\n",
       "      <td>California</td>\n",
       "      <td>2020-06-19</td>\n",
       "      <td>170862</td>\n",
       "      <td>5426</td>\n",
       "      <td>71</td>\n",
       "      <td>119124</td>\n",
       "      <td>0.045549</td>\n",
       "      <td>606715</td>\n",
       "      <td>27635.0</td>\n",
       "    </tr>\n",
       "    <tr>\n",
       "      <th>150</th>\n",
       "      <td>150</td>\n",
       "      <td>California</td>\n",
       "      <td>2020-06-20</td>\n",
       "      <td>175213</td>\n",
       "      <td>5494</td>\n",
       "      <td>68</td>\n",
       "      <td>119719</td>\n",
       "      <td>0.045891</td>\n",
       "      <td>617460</td>\n",
       "      <td>28336.0</td>\n",
       "    </tr>\n",
       "    <tr>\n",
       "      <th>151</th>\n",
       "      <td>151</td>\n",
       "      <td>California</td>\n",
       "      <td>2020-06-21</td>\n",
       "      <td>178546</td>\n",
       "      <td>5515</td>\n",
       "      <td>21</td>\n",
       "      <td>119977</td>\n",
       "      <td>0.045967</td>\n",
       "      <td>622133</td>\n",
       "      <td>28598.0</td>\n",
       "    </tr>\n",
       "    <tr>\n",
       "      <th>152</th>\n",
       "      <td>152</td>\n",
       "      <td>California</td>\n",
       "      <td>2020-06-22</td>\n",
       "      <td>184765</td>\n",
       "      <td>5566</td>\n",
       "      <td>51</td>\n",
       "      <td>120402</td>\n",
       "      <td>0.046228</td>\n",
       "      <td>640198</td>\n",
       "      <td>29595.0</td>\n",
       "    </tr>\n",
       "  </tbody>\n",
       "</table>\n",
       "</div>"
      ],
      "text/plain": [
       "     Unnamed: 0       state       date  cases_confirmed  total_deaths  \\\n",
       "143         143  California 2020-06-13           150018          5076   \n",
       "144         144  California 2020-06-14           152300          5099   \n",
       "145         145  California 2020-06-15           155726          5114   \n",
       "146         146  California 2020-06-16           158961          5200   \n",
       "147         147  California 2020-06-17           162798          5271   \n",
       "148         148  California 2020-06-18           167086          5355   \n",
       "149         149  California 2020-06-19           170862          5426   \n",
       "150         150  California 2020-06-20           175213          5494   \n",
       "151         151  California 2020-06-21           178546          5515   \n",
       "152         152  California 2020-06-22           184765          5566   \n",
       "\n",
       "     new_deaths  total_US_deaths  death_ratio  total_US_rec  \\\n",
       "143          98           115436     0.043972        556606   \n",
       "144          23           115732     0.044059        561816   \n",
       "145          15           116127     0.044038        576334   \n",
       "146          86           116963     0.044459        583503   \n",
       "147          71           117717     0.044777        592191   \n",
       "148          84           118432     0.045216        599115   \n",
       "149          71           119124     0.045549        606715   \n",
       "150          68           119719     0.045891        617460   \n",
       "151          21           119977     0.045967        622133   \n",
       "152          51           120402     0.046228        640198   \n",
       "\n",
       "     approx_state_rec_total  \n",
       "143                 24475.0  \n",
       "144                 24753.0  \n",
       "145                 25381.0  \n",
       "146                 25942.0  \n",
       "147                 26516.0  \n",
       "148                 27089.0  \n",
       "149                 27635.0  \n",
       "150                 28336.0  \n",
       "151                 28598.0  \n",
       "152                 29595.0  "
      ]
     },
     "execution_count": 13,
     "metadata": {},
     "output_type": "execute_result"
    }
   ],
   "source": [
    "import pandas as pd\n",
    "import matplotlib.pyplot as plt\n",
    "import numpy as np\n",
    "%matplotlib inline\n",
    "\n",
    "# Please remeber that the data of csv file has been read as 'raw_data' variable\n",
    "raw_data = pd.read_csv('data.csv')\n",
    "\n",
    "raw_data['date'] = pd.to_datetime(raw_data.date)\n",
    "raw_data.tail(10)"
   ]
  },
  {
   "cell_type": "markdown",
   "metadata": {},
   "source": [
    "### Plotting the data I have\n",
    "\n",
    "I have plotted the data in the 'data.csv' file. Please scale and zoom the graph to view better."
   ]
  },
  {
   "cell_type": "code",
   "execution_count": 14,
   "metadata": {
    "scrolled": false
   },
   "outputs": [
    {
     "data": {
      "image/png": "[encoded data removed]",
      "text/plain": [
       "<Figure size 432x288 with 1 Axes>"
      ]
     },
     "metadata": {
      "needs_background": "light"
     },
     "output_type": "display_data"
    }
   ],
   "source": [
    "date = raw_data.date\n",
    "C = raw_data.cases_confirmed\n",
    "D = raw_data.total_deaths\n",
    "R = raw_data.approx_state_rec_total\n",
    "\n",
    "fig = plt.figure()\n",
    "ax = fig.add_subplot(111, facecolor = '#ffffff', axisbelow = True)\n",
    "ax.plot(date, C, 'b', alpha=0.5, lw=1, label='Cases confirmed')\n",
    "ax.plot(date, D, 'r', alpha=0.5, lw=1, label='Total deaths')\n",
    "ax.plot(date, R, 'g', alpha=0.5, lw=1, label='Total recovered')\n",
    "ax.set_xlabel('Dates')\n",
    "ax.set_ylabel('Number of patients')\n",
    "ax.yaxis.set_tick_params(length=0)\n",
    "ax.xaxis.set_tick_params(length=0)\n",
    "legend = ax.legend()\n",
    "legend.get_frame().set_alpha(0.5)\n",
    "ax.yaxis.set_tick_params(length=5)\n",
    "ax.xaxis.set_tick_params(length=5)\n",
    "plt.grid(linewidth=0.1)\n",
    "plt.show()"
   ]
  },
  {
   "cell_type": "markdown",
   "metadata": {},
   "source": [
    "## Approximation of recovered patient in the state\n",
    "\n",
    "The exact number of recovered patients in California is not available. However, the data of how many people across the country is available. I have extracted the number of patients recovered in state from this data\n",
    "\n",
    "One assumption I have made is that the healthcare facility in all of America is same. This is not true, but I couldn't advance it any further. Now, if the healthcare facility across the country is same, then the mortality rate will also be the same. So suppose if 20% of people die, other 80% live. \n",
    "\n",
    "I calculated what frction of people were dying in California as oppossed to number of people dying in the whole country. And since our assumption is that mortality rate is same across the country, the same fraction of people whill be recovering in California as oppossed to the number of people getting recovered in the whole contry."
   ]
  },
  {
   "cell_type": "markdown",
   "metadata": {},
   "source": [
    "# What is SIR Model?\n",
    "SIR model is a simple mathematical model to understand outbreak of infectious diseases.  \n",
    "\n",
    " * S: Susceptible (=All - Confirmed)\n",
    " * I: Infected (=Confirmed - Recovered - Deaths)\n",
    " * R: Recovered or fatal (=Recovered + Deaths)\n",
    " \n",
    "Model:  \n",
    "\\begin{align*}\n",
    "\\mathrm{S} \\overset{\\beta I}{\\longrightarrow} \\mathrm{I} \\overset{\\gamma}{\\longrightarrow} \\mathrm{R}  \\\\\n",
    "\\end{align*}\n",
    "\n",
    "$\\beta$: Effective contact rate [1/min]  \n",
    "$\\gamma$: Recovery(+Mortality) rate [1/min]  \n",
    "\n",
    "Ordinary Differential Equation (ODE):  \n",
    "\\begin{align*}\n",
    "& \\frac{\\mathrm{d}S}{\\mathrm{d}T}= - N^{-1}\\beta S I  \\\\\n",
    "& \\frac{\\mathrm{d}I}{\\mathrm{d}T}= N^{-1}\\beta S I - \\gamma I  \\\\\n",
    "& \\frac{\\mathrm{d}R}{\\mathrm{d}T}= \\gamma I  \\\\\n",
    "\\end{align*}\n",
    "\n",
    "Where $N=S+I+R$ is the total population, $T$ is the elapsed time from the start date."
   ]
  },
  {
   "cell_type": "markdown",
   "metadata": {},
   "source": [
    "## SIR plotting of the given data\n",
    "\n",
    "During the last census in California, the population was estimated to be around 40M. I will use the figure 40,000,000 for the starting population of California"
   ]
  },
  {
   "cell_type": "code",
   "execution_count": 15,
   "metadata": {},
   "outputs": [
    {
     "data": {
      "image/png": "[encoded data removed]",
      "text/plain": [
       "<Figure size 432x288 with 1 Axes>"
      ]
     },
     "metadata": {
      "needs_background": "light"
     },
     "output_type": "display_data"
    }
   ],
   "source": [
    "date = raw_data.date\n",
    "N = population\n",
    "I = raw_data.cases_confirmed - raw_data.approx_state_rec_total\n",
    "R = raw_data.approx_state_rec_total + raw_data.total_deaths\n",
    "S = N-I-R\n",
    "\n",
    "fig = plt.figure()\n",
    "ax = fig.add_subplot(111, facecolor = '#ffffff', axisbelow = True)\n",
    "ax.plot(date, S/1000000, 'b', alpha=0.5, lw=1, label='Susceptible')\n",
    "ax.plot(date, I/1000000, 'r', alpha=0.5, lw=1, label='Infected')\n",
    "ax.plot(date, R/1000000, 'g', alpha=0.5, lw=1, label='Recovered')\n",
    "ax.set_xlabel('Dates')\n",
    "ax.set_ylabel('Number of people (millions)')\n",
    "ax.yaxis.set_tick_params(length=0)\n",
    "ax.xaxis.set_tick_params(length=0)\n",
    "legend = ax.legend()\n",
    "legend.get_frame().set_alpha(0.5)\n",
    "ax.yaxis.set_tick_params(length=5)\n",
    "ax.xaxis.set_tick_params(length=5)\n",
    "plt.grid(linewidth=0.1)\n",
    "plt.show()"
   ]
  },
  {
   "cell_type": "markdown",
   "metadata": {},
   "source": [
    "As you can see, the curve is extremely flattened as the Epidemic has just begun in California. So it is difficult to pedit the future trend of this epidemic. Please zoom in at infected and recovered lines to view the difference clearly. \n",
    "\n",
    "To understand how this epidemic will progress, I will find plot a general SIR curve with variable parameter values and find the parameter values for which it fits the best."
   ]
  },
  {
   "cell_type": "markdown",
   "metadata": {},
   "source": [
    "## Example of SIR model with predefined parameters"
   ]
  },
  {
   "cell_type": "markdown",
   "metadata": {},
   "source": [
    "Here I have made an example SIR model for California with $\\beta=0.25$ and $\\gamma=1/10$. So $R_0$ will be 2.5"
   ]
  },
  {
   "cell_type": "code",
   "execution_count": 16,
   "metadata": {},
   "outputs": [
    {
     "ename": "ImportError",
     "evalue": "DLL load failed while importing _arpack: The specified procedure could not be found.",
     "output_type": "error",
     "traceback": [
      "\u001b[1;31m---------------------------------------------------------------------------\u001b[0m",
      "\u001b[1;31mImportError\u001b[0m                               Traceback (most recent call last)",
      "\u001b[1;32m<ipython-input-16-e586b6b8e174>\u001b[0m in \u001b[0;36m<module>\u001b[1;34m\u001b[0m\n\u001b[1;32m----> 1\u001b[1;33m \u001b[1;32mfrom\u001b[0m \u001b[0mscipy\u001b[0m\u001b[1;33m.\u001b[0m\u001b[0mintegrate\u001b[0m \u001b[1;32mimport\u001b[0m \u001b[0modeint\u001b[0m\u001b[1;33m\u001b[0m\u001b[1;33m\u001b[0m\u001b[0m\n\u001b[0m\u001b[0;32m      2\u001b[0m \u001b[1;33m\u001b[0m\u001b[0m\n\u001b[0;32m      3\u001b[0m \u001b[1;31m# Integrating the set of differential equations\u001b[0m\u001b[1;33m\u001b[0m\u001b[1;33m\u001b[0m\u001b[1;33m\u001b[0m\u001b[0m\n\u001b[0;32m      4\u001b[0m \u001b[1;31m# ---------------------------------------------\u001b[0m\u001b[1;33m\u001b[0m\u001b[1;33m\u001b[0m\u001b[1;33m\u001b[0m\u001b[0m\n\u001b[0;32m      5\u001b[0m \u001b[0mN\u001b[0m \u001b[1;33m=\u001b[0m \u001b[0mpopulation\u001b[0m\u001b[1;33m\u001b[0m\u001b[1;33m\u001b[0m\u001b[0m\n",
      "\u001b[1;32m~\\anaconda3\\lib\\site-packages\\scipy\\integrate\\__init__.py\u001b[0m in \u001b[0;36m<module>\u001b[1;34m\u001b[0m\n\u001b[0;32m     92\u001b[0m \u001b[1;32mfrom\u001b[0m \u001b[1;33m.\u001b[0m\u001b[0mquadpack\u001b[0m \u001b[1;32mimport\u001b[0m \u001b[1;33m*\u001b[0m\u001b[1;33m\u001b[0m\u001b[1;33m\u001b[0m\u001b[0m\n\u001b[0;32m     93\u001b[0m \u001b[1;32mfrom\u001b[0m \u001b[1;33m.\u001b[0m\u001b[0m_ode\u001b[0m \u001b[1;32mimport\u001b[0m \u001b[1;33m*\u001b[0m\u001b[1;33m\u001b[0m\u001b[1;33m\u001b[0m\u001b[0m\n\u001b[1;32m---> 94\u001b[1;33m \u001b[1;32mfrom\u001b[0m \u001b[1;33m.\u001b[0m\u001b[0m_bvp\u001b[0m \u001b[1;32mimport\u001b[0m \u001b[0msolve_bvp\u001b[0m\u001b[1;33m\u001b[0m\u001b[1;33m\u001b[0m\u001b[0m\n\u001b[0m\u001b[0;32m     95\u001b[0m from ._ivp import (solve_ivp, OdeSolution, DenseOutput,\n\u001b[0;32m     96\u001b[0m                    OdeSolver, RK23, RK45, DOP853, Radau, BDF, LSODA)\n",
      "\u001b[1;32m~\\anaconda3\\lib\\site-packages\\scipy\\integrate\\_bvp.py\u001b[0m in \u001b[0;36m<module>\u001b[1;34m\u001b[0m\n\u001b[0;32m      6\u001b[0m \u001b[1;33m\u001b[0m\u001b[0m\n\u001b[0;32m      7\u001b[0m \u001b[1;32mfrom\u001b[0m \u001b[0mscipy\u001b[0m\u001b[1;33m.\u001b[0m\u001b[0msparse\u001b[0m \u001b[1;32mimport\u001b[0m \u001b[0mcoo_matrix\u001b[0m\u001b[1;33m,\u001b[0m \u001b[0mcsc_matrix\u001b[0m\u001b[1;33m\u001b[0m\u001b[1;33m\u001b[0m\u001b[0m\n\u001b[1;32m----> 8\u001b[1;33m \u001b[1;32mfrom\u001b[0m \u001b[0mscipy\u001b[0m\u001b[1;33m.\u001b[0m\u001b[0msparse\u001b[0m\u001b[1;33m.\u001b[0m\u001b[0mlinalg\u001b[0m \u001b[1;32mimport\u001b[0m \u001b[0msplu\u001b[0m\u001b[1;33m\u001b[0m\u001b[1;33m\u001b[0m\u001b[0m\n\u001b[0m\u001b[0;32m      9\u001b[0m \u001b[1;32mfrom\u001b[0m \u001b[0mscipy\u001b[0m\u001b[1;33m.\u001b[0m\u001b[0moptimize\u001b[0m \u001b[1;32mimport\u001b[0m \u001b[0mOptimizeResult\u001b[0m\u001b[1;33m\u001b[0m\u001b[1;33m\u001b[0m\u001b[0m\n\u001b[0;32m     10\u001b[0m \u001b[1;33m\u001b[0m\u001b[0m\n",
      "\u001b[1;32m~\\anaconda3\\lib\\site-packages\\scipy\\sparse\\linalg\\__init__.py\u001b[0m in \u001b[0;36m<module>\u001b[1;34m\u001b[0m\n\u001b[0;32m    112\u001b[0m \u001b[1;32mfrom\u001b[0m \u001b[1;33m.\u001b[0m\u001b[0mdsolve\u001b[0m \u001b[1;32mimport\u001b[0m \u001b[1;33m*\u001b[0m\u001b[1;33m\u001b[0m\u001b[1;33m\u001b[0m\u001b[0m\n\u001b[0;32m    113\u001b[0m \u001b[1;32mfrom\u001b[0m \u001b[1;33m.\u001b[0m\u001b[0minterface\u001b[0m \u001b[1;32mimport\u001b[0m \u001b[1;33m*\u001b[0m\u001b[1;33m\u001b[0m\u001b[1;33m\u001b[0m\u001b[0m\n\u001b[1;32m--> 114\u001b[1;33m \u001b[1;32mfrom\u001b[0m \u001b[1;33m.\u001b[0m\u001b[0meigen\u001b[0m \u001b[1;32mimport\u001b[0m \u001b[1;33m*\u001b[0m\u001b[1;33m\u001b[0m\u001b[1;33m\u001b[0m\u001b[0m\n\u001b[0m\u001b[0;32m    115\u001b[0m \u001b[1;32mfrom\u001b[0m \u001b[1;33m.\u001b[0m\u001b[0mmatfuncs\u001b[0m \u001b[1;32mimport\u001b[0m \u001b[1;33m*\u001b[0m\u001b[1;33m\u001b[0m\u001b[1;33m\u001b[0m\u001b[0m\n\u001b[0;32m    116\u001b[0m \u001b[1;32mfrom\u001b[0m \u001b[1;33m.\u001b[0m\u001b[0m_onenormest\u001b[0m \u001b[1;32mimport\u001b[0m \u001b[1;33m*\u001b[0m\u001b[1;33m\u001b[0m\u001b[1;33m\u001b[0m\u001b[0m\n",
      "\u001b[1;32m~\\anaconda3\\lib\\site-packages\\scipy\\sparse\\linalg\\eigen\\__init__.py\u001b[0m in \u001b[0;36m<module>\u001b[1;34m\u001b[0m\n\u001b[0;32m      7\u001b[0m \u001b[1;33m\u001b[0m\u001b[0m\n\u001b[0;32m      8\u001b[0m \"\"\"\n\u001b[1;32m----> 9\u001b[1;33m \u001b[1;32mfrom\u001b[0m \u001b[1;33m.\u001b[0m\u001b[0marpack\u001b[0m \u001b[1;32mimport\u001b[0m \u001b[1;33m*\u001b[0m\u001b[1;33m\u001b[0m\u001b[1;33m\u001b[0m\u001b[0m\n\u001b[0m\u001b[0;32m     10\u001b[0m \u001b[1;32mfrom\u001b[0m \u001b[1;33m.\u001b[0m\u001b[0mlobpcg\u001b[0m \u001b[1;32mimport\u001b[0m \u001b[1;33m*\u001b[0m\u001b[1;33m\u001b[0m\u001b[1;33m\u001b[0m\u001b[0m\n\u001b[0;32m     11\u001b[0m \u001b[1;33m\u001b[0m\u001b[0m\n",
      "\u001b[1;32m~\\anaconda3\\lib\\site-packages\\scipy\\sparse\\linalg\\eigen\\arpack\\__init__.py\u001b[0m in \u001b[0;36m<module>\u001b[1;34m\u001b[0m\n\u001b[0;32m     18\u001b[0m \u001b[1;33m\u001b[0m\u001b[0m\n\u001b[0;32m     19\u001b[0m \"\"\"\n\u001b[1;32m---> 20\u001b[1;33m \u001b[1;32mfrom\u001b[0m \u001b[1;33m.\u001b[0m\u001b[0marpack\u001b[0m \u001b[1;32mimport\u001b[0m \u001b[1;33m*\u001b[0m\u001b[1;33m\u001b[0m\u001b[1;33m\u001b[0m\u001b[0m\n\u001b[0m",
      "\u001b[1;32m~\\anaconda3\\lib\\site-packages\\scipy\\sparse\\linalg\\eigen\\arpack\\arpack.py\u001b[0m in \u001b[0;36m<module>\u001b[1;34m\u001b[0m\n\u001b[0;32m     41\u001b[0m \u001b[0m__all__\u001b[0m \u001b[1;33m=\u001b[0m \u001b[1;33m[\u001b[0m\u001b[1;34m'eigs'\u001b[0m\u001b[1;33m,\u001b[0m \u001b[1;34m'eigsh'\u001b[0m\u001b[1;33m,\u001b[0m \u001b[1;34m'svds'\u001b[0m\u001b[1;33m,\u001b[0m \u001b[1;34m'ArpackError'\u001b[0m\u001b[1;33m,\u001b[0m \u001b[1;34m'ArpackNoConvergence'\u001b[0m\u001b[1;33m]\u001b[0m\u001b[1;33m\u001b[0m\u001b[1;33m\u001b[0m\u001b[0m\n\u001b[0;32m     42\u001b[0m \u001b[1;33m\u001b[0m\u001b[0m\n\u001b[1;32m---> 43\u001b[1;33m \u001b[1;32mfrom\u001b[0m \u001b[1;33m.\u001b[0m \u001b[1;32mimport\u001b[0m \u001b[0m_arpack\u001b[0m\u001b[1;33m\u001b[0m\u001b[1;33m\u001b[0m\u001b[0m\n\u001b[0m\u001b[0;32m     44\u001b[0m \u001b[0marpack_int\u001b[0m \u001b[1;33m=\u001b[0m \u001b[0m_arpack\u001b[0m\u001b[1;33m.\u001b[0m\u001b[0mtiming\u001b[0m\u001b[1;33m.\u001b[0m\u001b[0mnbx\u001b[0m\u001b[1;33m.\u001b[0m\u001b[0mdtype\u001b[0m\u001b[1;33m\u001b[0m\u001b[1;33m\u001b[0m\u001b[0m\n\u001b[0;32m     45\u001b[0m \u001b[1;33m\u001b[0m\u001b[0m\n",
      "\u001b[1;31mImportError\u001b[0m: DLL load failed while importing _arpack: The specified procedure could not be found."
     ]
    }
   ],
   "source": [
    "from scipy.integrate import odeint\n",
    "\n",
    "# Integrating the set of differential equations\n",
    "# ---------------------------------------------\n",
    "N = population\n",
    "I0, R0 = 1, 0\n",
    "S0 = N - I0 - R0\n",
    "beta, gamma = 0.25, 1./10\n",
    "t = np.linspace(0, 250, 250)\n",
    "def deriv(y, t, N, beta, gamma):\n",
    "    S, I, R = y\n",
    "    dSdt = -beta * S * I / N\n",
    "    dIdt = beta * S * I / N - gamma * I\n",
    "    dRdt = gamma * I\n",
    "    return dSdt, dIdt, dRdt\n",
    "y0 = S0, I0, R0\n",
    "ret = odeint(deriv, y0, t, args=(N, beta, gamma))\n",
    "S, I, R = ret.T\n",
    "\n",
    "# Plotting the calculated graph\n",
    "# -----------------------------\n",
    "fig = plt.figure(facecolor='w')\n",
    "ax = fig.add_subplot(111, facecolor='#ffffff', axisbelow=True)\n",
    "ax.plot(t, S/1000000, 'b', alpha=0.5, lw=1, label='Susceptible')\n",
    "ax.plot(t, I/1000000, 'r', alpha=0.5, lw=1, label='Infected')\n",
    "ax.plot(t, R/1000000, 'g', alpha=0.5, lw=1, label='Recovered with immunity')\n",
    "ax.set_xlabel('Time /days')\n",
    "ax.set_ylabel('Number (millions)')\n",
    "ax.grid(b=True, which='major', lw=0.3, ls='-')\n",
    "legend = ax.legend()\n",
    "plt.show()\n"
   ]
  },
  {
   "cell_type": "markdown",
   "metadata": {},
   "source": [
    "### Now I will find a fitting SIR curve for California's condition uptil now."
   ]
  },
  {
   "cell_type": "markdown",
   "metadata": {},
   "source": [
    "Although the data for numbered of recovered patients is not accurate, I will find the value of $\\beta$ and $\\gamma$ for which the SIR curve fits the given data about California. I I compare the number of infected people of SIR to the number of infected people in the data obtained from JHU dataset."
   ]
  },
  {
   "cell_type": "code",
   "execution_count": 17,
   "metadata": {},
   "outputs": [
    {
     "name": "stdout",
     "output_type": "stream",
     "text": [
      "143    125543.0\n",
      "144    127547.0\n",
      "145    130345.0\n",
      "146    133019.0\n",
      "147    136282.0\n",
      "148    139997.0\n",
      "149    143227.0\n",
      "150    146877.0\n",
      "151    149948.0\n",
      "152    155170.0\n",
      "dtype: float64\n"
     ]
    }
   ],
   "source": [
    "# Number of infected people as opposed to number of day since 22-Jan-2020\n",
    "\n",
    "y = raw_data.cases_confirmed - raw_data.approx_state_rec_total\n",
    "print(y.tail(10))"
   ]
  },
  {
   "cell_type": "code",
   "execution_count": 18,
   "metadata": {},
   "outputs": [
    {
     "ename": "ImportError",
     "evalue": "DLL load failed while importing _arpack: The specified procedure could not be found.",
     "output_type": "error",
     "traceback": [
      "\u001b[1;31m---------------------------------------------------------------------------\u001b[0m",
      "\u001b[1;31mImportError\u001b[0m                               Traceback (most recent call last)",
      "\u001b[1;32m<ipython-input-18-72bbd097b2f0>\u001b[0m in \u001b[0;36m<module>\u001b[1;34m\u001b[0m\n\u001b[0;32m      7\u001b[0m \u001b[0mwarnings\u001b[0m\u001b[1;33m.\u001b[0m\u001b[0mfilterwarnings\u001b[0m\u001b[1;33m(\u001b[0m\u001b[1;34m'ignore'\u001b[0m\u001b[1;33m)\u001b[0m\u001b[1;33m\u001b[0m\u001b[1;33m\u001b[0m\u001b[0m\n\u001b[0;32m      8\u001b[0m \u001b[1;33m\u001b[0m\u001b[0m\n\u001b[1;32m----> 9\u001b[1;33m \u001b[1;32mfrom\u001b[0m \u001b[0mscipy\u001b[0m\u001b[1;33m.\u001b[0m\u001b[0moptimize\u001b[0m \u001b[1;32mimport\u001b[0m \u001b[0mcurve_fit\u001b[0m\u001b[1;33m\u001b[0m\u001b[1;33m\u001b[0m\u001b[0m\n\u001b[0m\u001b[0;32m     10\u001b[0m \u001b[1;33m\u001b[0m\u001b[0m\n\u001b[0;32m     11\u001b[0m \u001b[1;31m# The 'test_model' function simulates a SIR run for given 'beta' and 'gamma' values and returns the Infected data\u001b[0m\u001b[1;33m\u001b[0m\u001b[1;33m\u001b[0m\u001b[1;33m\u001b[0m\u001b[0m\n",
      "\u001b[1;32m~\\anaconda3\\lib\\site-packages\\scipy\\optimize\\__init__.py\u001b[0m in \u001b[0;36m<module>\u001b[1;34m\u001b[0m\n\u001b[0;32m    385\u001b[0m \"\"\"\n\u001b[0;32m    386\u001b[0m \u001b[1;33m\u001b[0m\u001b[0m\n\u001b[1;32m--> 387\u001b[1;33m \u001b[1;32mfrom\u001b[0m \u001b[1;33m.\u001b[0m\u001b[0moptimize\u001b[0m \u001b[1;32mimport\u001b[0m \u001b[1;33m*\u001b[0m\u001b[1;33m\u001b[0m\u001b[1;33m\u001b[0m\u001b[0m\n\u001b[0m\u001b[0;32m    388\u001b[0m \u001b[1;32mfrom\u001b[0m \u001b[1;33m.\u001b[0m\u001b[0m_minimize\u001b[0m \u001b[1;32mimport\u001b[0m \u001b[1;33m*\u001b[0m\u001b[1;33m\u001b[0m\u001b[1;33m\u001b[0m\u001b[0m\n\u001b[0;32m    389\u001b[0m \u001b[1;32mfrom\u001b[0m \u001b[1;33m.\u001b[0m\u001b[0m_root\u001b[0m \u001b[1;32mimport\u001b[0m \u001b[1;33m*\u001b[0m\u001b[1;33m\u001b[0m\u001b[1;33m\u001b[0m\u001b[0m\n",
      "\u001b[1;32m~\\anaconda3\\lib\\site-packages\\scipy\\optimize\\optimize.py\u001b[0m in \u001b[0;36m<module>\u001b[1;34m\u001b[0m\n\u001b[0;32m     34\u001b[0m                          \u001b[0mline_search_wolfe2\u001b[0m \u001b[1;32mas\u001b[0m \u001b[0mline_search\u001b[0m\u001b[1;33m,\u001b[0m\u001b[1;33m\u001b[0m\u001b[1;33m\u001b[0m\u001b[0m\n\u001b[0;32m     35\u001b[0m                          LineSearchWarning)\n\u001b[1;32m---> 36\u001b[1;33m \u001b[1;32mfrom\u001b[0m \u001b[1;33m.\u001b[0m\u001b[0m_numdiff\u001b[0m \u001b[1;32mimport\u001b[0m \u001b[0mapprox_derivative\u001b[0m\u001b[1;33m\u001b[0m\u001b[1;33m\u001b[0m\u001b[0m\n\u001b[0m\u001b[0;32m     37\u001b[0m \u001b[1;32mfrom\u001b[0m \u001b[0mscipy\u001b[0m\u001b[1;33m.\u001b[0m\u001b[0m_lib\u001b[0m\u001b[1;33m.\u001b[0m\u001b[0m_util\u001b[0m \u001b[1;32mimport\u001b[0m \u001b[0mgetfullargspec_no_self\u001b[0m \u001b[1;32mas\u001b[0m \u001b[0m_getfullargspec\u001b[0m\u001b[1;33m\u001b[0m\u001b[1;33m\u001b[0m\u001b[0m\n\u001b[0;32m     38\u001b[0m \u001b[1;32mfrom\u001b[0m \u001b[0mscipy\u001b[0m\u001b[1;33m.\u001b[0m\u001b[0m_lib\u001b[0m\u001b[1;33m.\u001b[0m\u001b[0m_util\u001b[0m \u001b[1;32mimport\u001b[0m \u001b[0mMapWrapper\u001b[0m\u001b[1;33m\u001b[0m\u001b[1;33m\u001b[0m\u001b[0m\n",
      "\u001b[1;32m~\\anaconda3\\lib\\site-packages\\scipy\\optimize\\_numdiff.py\u001b[0m in \u001b[0;36m<module>\u001b[1;34m\u001b[0m\n\u001b[0;32m      4\u001b[0m \u001b[1;32mfrom\u001b[0m \u001b[0mnumpy\u001b[0m\u001b[1;33m.\u001b[0m\u001b[0mlinalg\u001b[0m \u001b[1;32mimport\u001b[0m \u001b[0mnorm\u001b[0m\u001b[1;33m\u001b[0m\u001b[1;33m\u001b[0m\u001b[0m\n\u001b[0;32m      5\u001b[0m \u001b[1;33m\u001b[0m\u001b[0m\n\u001b[1;32m----> 6\u001b[1;33m \u001b[1;32mfrom\u001b[0m \u001b[0mscipy\u001b[0m\u001b[1;33m.\u001b[0m\u001b[0msparse\u001b[0m\u001b[1;33m.\u001b[0m\u001b[0mlinalg\u001b[0m \u001b[1;32mimport\u001b[0m \u001b[0mLinearOperator\u001b[0m\u001b[1;33m\u001b[0m\u001b[1;33m\u001b[0m\u001b[0m\n\u001b[0m\u001b[0;32m      7\u001b[0m \u001b[1;32mfrom\u001b[0m \u001b[1;33m.\u001b[0m\u001b[1;33m.\u001b[0m\u001b[0msparse\u001b[0m \u001b[1;32mimport\u001b[0m \u001b[0missparse\u001b[0m\u001b[1;33m,\u001b[0m \u001b[0mcsc_matrix\u001b[0m\u001b[1;33m,\u001b[0m \u001b[0mcsr_matrix\u001b[0m\u001b[1;33m,\u001b[0m \u001b[0mcoo_matrix\u001b[0m\u001b[1;33m,\u001b[0m \u001b[0mfind\u001b[0m\u001b[1;33m\u001b[0m\u001b[1;33m\u001b[0m\u001b[0m\n\u001b[0;32m      8\u001b[0m \u001b[1;32mfrom\u001b[0m \u001b[1;33m.\u001b[0m\u001b[0m_group_columns\u001b[0m \u001b[1;32mimport\u001b[0m \u001b[0mgroup_dense\u001b[0m\u001b[1;33m,\u001b[0m \u001b[0mgroup_sparse\u001b[0m\u001b[1;33m\u001b[0m\u001b[1;33m\u001b[0m\u001b[0m\n",
      "\u001b[1;32m~\\anaconda3\\lib\\site-packages\\scipy\\sparse\\linalg\\__init__.py\u001b[0m in \u001b[0;36m<module>\u001b[1;34m\u001b[0m\n\u001b[0;32m    112\u001b[0m \u001b[1;32mfrom\u001b[0m \u001b[1;33m.\u001b[0m\u001b[0mdsolve\u001b[0m \u001b[1;32mimport\u001b[0m \u001b[1;33m*\u001b[0m\u001b[1;33m\u001b[0m\u001b[1;33m\u001b[0m\u001b[0m\n\u001b[0;32m    113\u001b[0m \u001b[1;32mfrom\u001b[0m \u001b[1;33m.\u001b[0m\u001b[0minterface\u001b[0m \u001b[1;32mimport\u001b[0m \u001b[1;33m*\u001b[0m\u001b[1;33m\u001b[0m\u001b[1;33m\u001b[0m\u001b[0m\n\u001b[1;32m--> 114\u001b[1;33m \u001b[1;32mfrom\u001b[0m \u001b[1;33m.\u001b[0m\u001b[0meigen\u001b[0m \u001b[1;32mimport\u001b[0m \u001b[1;33m*\u001b[0m\u001b[1;33m\u001b[0m\u001b[1;33m\u001b[0m\u001b[0m\n\u001b[0m\u001b[0;32m    115\u001b[0m \u001b[1;32mfrom\u001b[0m \u001b[1;33m.\u001b[0m\u001b[0mmatfuncs\u001b[0m \u001b[1;32mimport\u001b[0m \u001b[1;33m*\u001b[0m\u001b[1;33m\u001b[0m\u001b[1;33m\u001b[0m\u001b[0m\n\u001b[0;32m    116\u001b[0m \u001b[1;32mfrom\u001b[0m \u001b[1;33m.\u001b[0m\u001b[0m_onenormest\u001b[0m \u001b[1;32mimport\u001b[0m \u001b[1;33m*\u001b[0m\u001b[1;33m\u001b[0m\u001b[1;33m\u001b[0m\u001b[0m\n",
      "\u001b[1;32m~\\anaconda3\\lib\\site-packages\\scipy\\sparse\\linalg\\eigen\\__init__.py\u001b[0m in \u001b[0;36m<module>\u001b[1;34m\u001b[0m\n\u001b[0;32m      7\u001b[0m \u001b[1;33m\u001b[0m\u001b[0m\n\u001b[0;32m      8\u001b[0m \"\"\"\n\u001b[1;32m----> 9\u001b[1;33m \u001b[1;32mfrom\u001b[0m \u001b[1;33m.\u001b[0m\u001b[0marpack\u001b[0m \u001b[1;32mimport\u001b[0m \u001b[1;33m*\u001b[0m\u001b[1;33m\u001b[0m\u001b[1;33m\u001b[0m\u001b[0m\n\u001b[0m\u001b[0;32m     10\u001b[0m \u001b[1;32mfrom\u001b[0m \u001b[1;33m.\u001b[0m\u001b[0mlobpcg\u001b[0m \u001b[1;32mimport\u001b[0m \u001b[1;33m*\u001b[0m\u001b[1;33m\u001b[0m\u001b[1;33m\u001b[0m\u001b[0m\n\u001b[0;32m     11\u001b[0m \u001b[1;33m\u001b[0m\u001b[0m\n",
      "\u001b[1;32m~\\anaconda3\\lib\\site-packages\\scipy\\sparse\\linalg\\eigen\\arpack\\__init__.py\u001b[0m in \u001b[0;36m<module>\u001b[1;34m\u001b[0m\n\u001b[0;32m     18\u001b[0m \u001b[1;33m\u001b[0m\u001b[0m\n\u001b[0;32m     19\u001b[0m \"\"\"\n\u001b[1;32m---> 20\u001b[1;33m \u001b[1;32mfrom\u001b[0m \u001b[1;33m.\u001b[0m\u001b[0marpack\u001b[0m \u001b[1;32mimport\u001b[0m \u001b[1;33m*\u001b[0m\u001b[1;33m\u001b[0m\u001b[1;33m\u001b[0m\u001b[0m\n\u001b[0m",
      "\u001b[1;32m~\\anaconda3\\lib\\site-packages\\scipy\\sparse\\linalg\\eigen\\arpack\\arpack.py\u001b[0m in \u001b[0;36m<module>\u001b[1;34m\u001b[0m\n\u001b[0;32m     41\u001b[0m \u001b[0m__all__\u001b[0m \u001b[1;33m=\u001b[0m \u001b[1;33m[\u001b[0m\u001b[1;34m'eigs'\u001b[0m\u001b[1;33m,\u001b[0m \u001b[1;34m'eigsh'\u001b[0m\u001b[1;33m,\u001b[0m \u001b[1;34m'svds'\u001b[0m\u001b[1;33m,\u001b[0m \u001b[1;34m'ArpackError'\u001b[0m\u001b[1;33m,\u001b[0m \u001b[1;34m'ArpackNoConvergence'\u001b[0m\u001b[1;33m]\u001b[0m\u001b[1;33m\u001b[0m\u001b[1;33m\u001b[0m\u001b[0m\n\u001b[0;32m     42\u001b[0m \u001b[1;33m\u001b[0m\u001b[0m\n\u001b[1;32m---> 43\u001b[1;33m \u001b[1;32mfrom\u001b[0m \u001b[1;33m.\u001b[0m \u001b[1;32mimport\u001b[0m \u001b[0m_arpack\u001b[0m\u001b[1;33m\u001b[0m\u001b[1;33m\u001b[0m\u001b[0m\n\u001b[0m\u001b[0;32m     44\u001b[0m \u001b[0marpack_int\u001b[0m \u001b[1;33m=\u001b[0m \u001b[0m_arpack\u001b[0m\u001b[1;33m.\u001b[0m\u001b[0mtiming\u001b[0m\u001b[1;33m.\u001b[0m\u001b[0mnbx\u001b[0m\u001b[1;33m.\u001b[0m\u001b[0mdtype\u001b[0m\u001b[1;33m\u001b[0m\u001b[1;33m\u001b[0m\u001b[0m\n\u001b[0;32m     45\u001b[0m \u001b[1;33m\u001b[0m\u001b[0m\n",
      "\u001b[1;31mImportError\u001b[0m: DLL load failed while importing _arpack: The specified procedure could not be found."
     ]
    }
   ],
   "source": [
    "# I have created a test model with beta = b, gamma = y and no. of days  = t\n",
    "# Now I will run a simulation for different values of b and y and find which values are best suited for the current\n",
    "# state of epidemic in california.\n",
    "\n",
    "# This code displays some warnings, so I change the setting to ignore the warning since I don't know how to remove them\n",
    "import warnings\n",
    "warnings.filterwarnings('ignore')\n",
    "\n",
    "from scipy.optimize import curve_fit\n",
    "\n",
    "# The 'test_model' function simulates a SIR run for given 'beta' and 'gamma' values and returns the Infected data\n",
    "def test_model(x, beta, gamma):\n",
    "    N = population\n",
    "    I0, R0 = 1, 0\n",
    "    S0 = N - I0 - R0\n",
    "    t = x\n",
    "    def deriv(y, t, N, beta, gamma):\n",
    "        S, I, R = y\n",
    "        dSdt = -beta * S * I / N\n",
    "        dIdt = beta * S * I / N - gamma * I\n",
    "        dRdt = gamma * I\n",
    "        return dSdt, dIdt, dRdt\n",
    "    y0 = S0, I0, R0\n",
    "    ret = odeint(deriv, y0, t, args=(N, beta, gamma))\n",
    "    S, I, R = ret.T\n",
    "    return I\n",
    "\n",
    "# 'x' stores the number of days for which simulation has to run\n",
    "x = raw_data.index\n",
    "# curve_fit() takes in the model that I need to test and returns the most suitable values of beta and gamma as param\n",
    "param, param_cov = curve_fit(test_model, x, y) \n",
    "beta, gamma = param\n",
    "print(\"beta = \", beta)\n",
    "print('gamma =', gamma)"
   ]
  },
  {
   "cell_type": "code",
   "execution_count": null,
   "metadata": {},
   "outputs": [],
   "source": [
    "fig = plt.figure(facecolor='w')\n",
    "t = raw_data.index\n",
    "I = test_model(t, beta, gamma)\n",
    "ax = fig.add_subplot(111, facecolor='#ffffff', axisbelow=True)\n",
    "ax.plot(t, y/1000000, 'b', alpha=0.5, lw=1, label='Infected actual')\n",
    "ax.plot(t, I/1000000, 'r', alpha=0.5, lw=1, label='Infected calculated')\n",
    "ax.set_xlabel('Time /days')\n",
    "ax.set_ylabel('Number (millions)')\n",
    "ax.grid(b=True, which='major', lw=0.3, ls='-')\n",
    "legend = ax.legend()\n",
    "plt.show()"
   ]
  },
  {
   "cell_type": "markdown",
   "metadata": {},
   "source": [
    "Now as you can see that this method of prediction is not very good. Now I will try another method to make simulation of SIR and predict the future trend."
   ]
  },
  {
   "cell_type": "markdown",
   "metadata": {},
   "source": [
    "## More technical way of predicting the SIR curve - Final\n",
    "\n",
    "I are going to use <b>Scipy.optimize.minimize</b> library to create a more robust SIR model of the given data. I will be starting from more or less scratch. The library is used to minimize a quantity given some constraints and boundaries of parameters. This method was insipred from <a href='https://www.lewuathe.com/covid-19-dynamics-with-sir-model.html'>this page's method</a>"
   ]
  },
  {
   "cell_type": "code",
   "execution_count": null,
   "metadata": {},
   "outputs": [],
   "source": [
    "import numpy as np\n",
    "import pandas as pd\n",
    "from scipy.integrate import odeint\n",
    "from scipy.optimize import minimize\n",
    "import matplotlib.pyplot as plt\n",
    "from datetime import timedelta, datetime"
   ]
  },
  {
   "cell_type": "markdown",
   "metadata": {},
   "source": [
    "#### Creating a loss error function\n",
    "I will create an error function which I will try to minimize it, I will also set the boundary parameters in this case, which I coundn't last time."
   ]
  },
  {
   "cell_type": "code",
   "execution_count": null,
   "metadata": {},
   "outputs": [],
   "source": [
    "def error(point, data):\n",
    "    # RMSE between actual confirmed cases and the estimated infectious people with given beta and gamma.\n",
    "    size = len(data)\n",
    "    beta, gamma = point \n",
    "    def deriv(y, t, N, beta, gamma):\n",
    "        S, I, R = y\n",
    "        dSdt = -beta * S * I / N\n",
    "        dIdt = beta * S * I / N - gamma * I\n",
    "        dRdt = gamma * I\n",
    "        return dSdt, dIdt, dRdt\n",
    "    y0 = S0, I0, R0\n",
    "    ret = odeint(deriv, y0, t, args=(N, beta, gamma))\n",
    "    S, I, R = ret.T\n",
    "    return np.sqrt(np.mean((I - data)**2))"
   ]
  },
  {
   "cell_type": "markdown",
   "metadata": {},
   "source": [
    "Now I will use the minimize library to minimize the error and create a better SIR model. Since the value of $\\beta$ and $\\gamma$ lie between 0 and 1, I have bounded them in the program. "
   ]
  },
  {
   "cell_type": "code",
   "execution_count": null,
   "metadata": {},
   "outputs": [],
   "source": [
    "data = pd.read_csv('data.csv').cases_confirmed - pd.read_csv('data.csv').total_deaths - pd.read_csv('data.csv').approx_state_rec_total\n",
    "N = population\n",
    "I0, R0 = 1, 0\n",
    "S0 = N - I0 - R0\n",
    "t = data.index\n",
    "b = (0.00000001, 0.12)   # Change the bounds and observe how to graph at the end changes. Its interesting. \n",
    "                        # I agreed upon the current bound as it best expressed the observed trend of Covid in the state\n",
    "optimal = minimize(\n",
    "            error,\n",
    "            [0.001, 0.001],\n",
    "            args=(data),\n",
    "            method='L-BFGS-B',\n",
    "            bounds=[b, b]\n",
    "        )\n",
    "beta, gamma = optimal.x\n",
    "print(\"beta = {} \\ngamma = {} \\nR_0 = {}\".format(beta,gamma,beta/gamma))"
   ]
  },
  {
   "cell_type": "markdown",
   "metadata": {},
   "source": [
    "Plotting the new curve with the obtained beta and gamma from previous simulation"
   ]
  },
  {
   "cell_type": "code",
   "execution_count": null,
   "metadata": {},
   "outputs": [],
   "source": [
    "fig = plt.figure(facecolor='w')\n",
    "t = raw_data.index\n",
    "I = test_model(t, beta, gamma)\n",
    "ax = fig.add_subplot(111, facecolor='#ffffff', axisbelow=True)\n",
    "ax.plot(t, data/1000, 'b', alpha=0.5, lw=1, label='Infected actual')\n",
    "ax.plot(t, I/1000, 'r', alpha=0.5, lw=1, label='Infected calculated')\n",
    "ax.set_xlabel('Time /days')\n",
    "ax.set_ylabel('Number (Thousands)')\n",
    "ax.grid(b=True, which='major', lw=0.3, ls='-')\n",
    "legend = ax.legend()\n",
    "plt.show()"
   ]
  },
  {
   "cell_type": "markdown",
   "metadata": {},
   "source": [
    "### Here is the completely plotted data, both predicted and actually observed.\n",
    "\n",
    "This dynamic graph requires <b>'plotly'</b> library to work. \n",
    "\n",
    "Please install it using '<em>pip install plotly==4.8.1</em>' or refer to <a href=\"https://plotly.com/python/getting-started/?utm_source=mailchimp-jan-2015&utm_medium=email&utm_campaign=generalemail-jan2015&utm_term=bubble-chart\">Plotly website</a> for more information on installation."
   ]
  },
  {
   "cell_type": "code",
   "execution_count": null,
   "metadata": {},
   "outputs": [],
   "source": [
    "# This function makes the observed and predicted data of same size so they can be plotted together\n",
    "# ------------------------------------------------------------------------------------------------\n",
    "def fill_remaining(S, I, R, size, req_size):\n",
    "    S_filled = np.empty(req_size)\n",
    "    I_filled = np.empty(req_size)\n",
    "    R_filled = np.empty(req_size)\n",
    "    \n",
    "    S_filled[:size] = S\n",
    "    I_filled[:size] = I\n",
    "    R_filled[:size] = R\n",
    "    \n",
    "    S_filled[size:] = np.NaN\n",
    "    I_filled[size:] = np.NaN\n",
    "    R_filled[size:] = np.NaN\n",
    "    \n",
    "    S_filled = pd.Series(S_filled)\n",
    "    I_filled = pd.Series(I_filled)\n",
    "    R_filled = pd.Series(R_filled)\n",
    "    return S_filled, I_filled, R_filled"
   ]
  },
  {
   "cell_type": "code",
   "execution_count": null,
   "metadata": {},
   "outputs": [],
   "source": [
    "# Observed and recorded data\n",
    "# --------------------------\n",
    "N = population\n",
    "I_obs = pd.read_csv('data.csv').cases_confirmed - pd.read_csv('data.csv').total_deaths - pd.read_csv('data.csv').approx_state_rec_total\n",
    "R_obs = pd.read_csv('data.csv').approx_state_rec_total + pd.read_csv('data.csv').total_deaths\n",
    "S_obs = N - I_obs - R_obs\n",
    "size = I_obs.size\n",
    "\n",
    "# Plot the trend for nest 500 days\n",
    "t = np.linspace(0, 500, 500)\n",
    "\n",
    "S_obs, I_obs, R_obs = fill_remaining(S_obs, I_obs, R_obs, size, t.size)"
   ]
  },
  {
   "cell_type": "code",
   "execution_count": null,
   "metadata": {},
   "outputs": [],
   "source": [
    "# Using the obtained beta and gamma to predict next 500 days trend \n",
    "# ----------------------------------------------------------------\n",
    "N = population\n",
    "I0, R0 = 1, 0\n",
    "S0 = N - I0 - R0\n",
    "def deriv(y, t, N, beta, gamma):\n",
    "    S, I, R = y\n",
    "    dSdt = -beta * S * I / N\n",
    "    dIdt = beta * S * I / N - gamma * I\n",
    "    dRdt = gamma * I\n",
    "    return dSdt, dIdt, dRdt\n",
    "y0 = S0, I0, R0\n",
    "ret = odeint(deriv, y0, t, args=(N, beta, gamma))\n",
    "S_pred, I_pred, R_pred = ret.T"
   ]
  },
  {
   "cell_type": "markdown",
   "metadata": {},
   "source": [
    "The following is a dynamic graph by 'plotly'. Use <b>'compare data on hover'</b> tool to view and compare data of SIR model trend. Use the other tools like 'spike lines' as you see fit."
   ]
  },
  {
   "cell_type": "code",
   "execution_count": null,
   "metadata": {},
   "outputs": [],
   "source": [
    "import plotly.graph_objects as go \n",
    "\n",
    "fig = go.Figure()\n",
    "\n",
    "fig.add_trace(go.Scatter(x=t, y=S_obs/1000000, name='Susc. Observed', \n",
    "                         line=dict(color='blue', width=1)))\n",
    "fig.add_trace(go.Scatter(x=t, y=I_obs/1000000, name='Inf. Observed', \n",
    "                         line=dict(color='red', width=1)))\n",
    "fig.add_trace(go.Scatter(x=t, y=R_obs/1000000, name='Rec. Observed', \n",
    "                         line=dict(color='green', width=1)))\n",
    "\n",
    "\n",
    "fig.add_trace(go.Scatter(x=t, y=S_pred/1000000, name='Susc. Predicting', \n",
    "                         line=dict(color='blue', width=1, dash='dash')))\n",
    "fig.add_trace(go.Scatter(x=t, y=I_pred/1000000, name='Inf. Predicting', \n",
    "                         line=dict(color='red', width=1, dash='dash')))\n",
    "fig.add_trace(go.Scatter(x=t, y=R_pred/1000000, name='Rec.predicting', \n",
    "                         line=dict(color='green', width=1, dash='dash')))\n",
    "\n",
    "fig.update_layout(title='Complete observed and predicted data',\n",
    "                   xaxis_title='No. of days starting from 22-Jan-2020',\n",
    "                   yaxis_title='No. of people (millions)')\n",
    "\n",
    "fig.show()"
   ]
  }
 ],
 "metadata": {
  "kernelspec": {
   "display_name": "Python 3",
   "language": "python",
   "name": "python3"
  },
  "language_info": {
   "codemirror_mode": {
    "name": "ipython",
    "version": 3
   },
   "file_extension": ".py",
   "mimetype": "text/x-python",
   "name": "python",
   "nbconvert_exporter": "python",
   "pygments_lexer": "ipython3",
   "version": "3.8.3"
  }
 },
 "nbformat": 4,
 "nbformat_minor": 4
}
